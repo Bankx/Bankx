{
  "cells": [
    {
      "cell_type": "code",
      "source": [
        "# importing libraries \n",
        "import pandas as pd\n",
        "import matplotlib.pyplot as plt\n",
        "%matplotlib inline"
      ],
      "metadata": {
        "id": "aA0r9QyT6W37"
      },
      "execution_count": null,
      "outputs": []
    },
    {
      "cell_type": "code",
      "source": [
        "#importing the dataset \n",
        "data = pd.read_csv('https://raw.githubusercontent.com/LearnPythonWithRune/DataScienceWithPython/main/jupyter/final/files/WorldBank-ATM.CO2E.PC_DS2.csv', index_col=0)\n",
        "data.head()"
      ],
      "metadata": {
        "id": "BHWT0Qku6b0j",
        "outputId": "a466d842-64dc-4bb0-e887-d6194dd93b53",
        "colab": {
          "base_uri": "https://localhost:8080/",
          "height": 331
        }
      },
      "execution_count": null,
      "outputs": [
        {
          "output_type": "execute_result",
          "data": {
            "text/plain": [
              "             ABW       AFE       AFG       AFW       AGO       ALB  AND  \\\n",
              "Year                                                                      \n",
              "1960  204.631696  0.906060  0.046057  0.090880  0.100835  1.258195  NaN   \n",
              "1961  208.837879  0.922474  0.053589  0.095283  0.082204  1.374186  NaN   \n",
              "1962  226.081890  0.930816  0.073721  0.096612  0.210533  1.439956  NaN   \n",
              "1963  214.785217  0.940570  0.074161  0.112376  0.202739  1.181681  NaN   \n",
              "1964  207.626699  0.996033  0.086174  0.133258  0.213562  1.111742  NaN   \n",
              "\n",
              "           ARB       ARE       ARG  ...  VIR       VNM       VUT       WLD  \\\n",
              "Year                                ...                                      \n",
              "1960  0.609268  0.119037  2.383343  ...  NaN  0.181947       NaN  3.121158   \n",
              "1961  0.662618  0.109136  2.458551  ...  NaN  0.183099       NaN  3.068090   \n",
              "1962  0.727117  0.163542  2.538447  ...  NaN  0.217694  0.595002  3.114839   \n",
              "1963  0.853116  0.175833  2.330685  ...  NaN  0.196997  0.471849  3.221195   \n",
              "1964  0.972381  0.132815  2.553442  ...  NaN  0.209870  0.864427  3.324046   \n",
              "\n",
              "           WSM  XKX       YEM       ZAF       ZMB       ZWE  \n",
              "Year                                                         \n",
              "1960  0.135031  NaN  0.011038  5.727223       NaN       NaN  \n",
              "1961  0.163542  NaN  0.013599  5.832621       NaN       NaN  \n",
              "1962  0.158377  NaN  0.012729  5.887168       NaN       NaN  \n",
              "1963  0.184037  NaN  0.014518  5.961337       NaN       NaN  \n",
              "1964  0.208106  NaN  0.017550  6.332343  0.946606  1.034904  \n",
              "\n",
              "[5 rows x 266 columns]"
            ],
            "text/html": [
              "\n",
              "  <div id=\"df-ee3fb02a-755d-4134-9045-d0b8c9a0cc08\">\n",
              "    <div class=\"colab-df-container\">\n",
              "      <div>\n",
              "<style scoped>\n",
              "    .dataframe tbody tr th:only-of-type {\n",
              "        vertical-align: middle;\n",
              "    }\n",
              "\n",
              "    .dataframe tbody tr th {\n",
              "        vertical-align: top;\n",
              "    }\n",
              "\n",
              "    .dataframe thead th {\n",
              "        text-align: right;\n",
              "    }\n",
              "</style>\n",
              "<table border=\"1\" class=\"dataframe\">\n",
              "  <thead>\n",
              "    <tr style=\"text-align: right;\">\n",
              "      <th></th>\n",
              "      <th>ABW</th>\n",
              "      <th>AFE</th>\n",
              "      <th>AFG</th>\n",
              "      <th>AFW</th>\n",
              "      <th>AGO</th>\n",
              "      <th>ALB</th>\n",
              "      <th>AND</th>\n",
              "      <th>ARB</th>\n",
              "      <th>ARE</th>\n",
              "      <th>ARG</th>\n",
              "      <th>...</th>\n",
              "      <th>VIR</th>\n",
              "      <th>VNM</th>\n",
              "      <th>VUT</th>\n",
              "      <th>WLD</th>\n",
              "      <th>WSM</th>\n",
              "      <th>XKX</th>\n",
              "      <th>YEM</th>\n",
              "      <th>ZAF</th>\n",
              "      <th>ZMB</th>\n",
              "      <th>ZWE</th>\n",
              "    </tr>\n",
              "    <tr>\n",
              "      <th>Year</th>\n",
              "      <th></th>\n",
              "      <th></th>\n",
              "      <th></th>\n",
              "      <th></th>\n",
              "      <th></th>\n",
              "      <th></th>\n",
              "      <th></th>\n",
              "      <th></th>\n",
              "      <th></th>\n",
              "      <th></th>\n",
              "      <th></th>\n",
              "      <th></th>\n",
              "      <th></th>\n",
              "      <th></th>\n",
              "      <th></th>\n",
              "      <th></th>\n",
              "      <th></th>\n",
              "      <th></th>\n",
              "      <th></th>\n",
              "      <th></th>\n",
              "      <th></th>\n",
              "    </tr>\n",
              "  </thead>\n",
              "  <tbody>\n",
              "    <tr>\n",
              "      <th>1960</th>\n",
              "      <td>204.631696</td>\n",
              "      <td>0.906060</td>\n",
              "      <td>0.046057</td>\n",
              "      <td>0.090880</td>\n",
              "      <td>0.100835</td>\n",
              "      <td>1.258195</td>\n",
              "      <td>NaN</td>\n",
              "      <td>0.609268</td>\n",
              "      <td>0.119037</td>\n",
              "      <td>2.383343</td>\n",
              "      <td>...</td>\n",
              "      <td>NaN</td>\n",
              "      <td>0.181947</td>\n",
              "      <td>NaN</td>\n",
              "      <td>3.121158</td>\n",
              "      <td>0.135031</td>\n",
              "      <td>NaN</td>\n",
              "      <td>0.011038</td>\n",
              "      <td>5.727223</td>\n",
              "      <td>NaN</td>\n",
              "      <td>NaN</td>\n",
              "    </tr>\n",
              "    <tr>\n",
              "      <th>1961</th>\n",
              "      <td>208.837879</td>\n",
              "      <td>0.922474</td>\n",
              "      <td>0.053589</td>\n",
              "      <td>0.095283</td>\n",
              "      <td>0.082204</td>\n",
              "      <td>1.374186</td>\n",
              "      <td>NaN</td>\n",
              "      <td>0.662618</td>\n",
              "      <td>0.109136</td>\n",
              "      <td>2.458551</td>\n",
              "      <td>...</td>\n",
              "      <td>NaN</td>\n",
              "      <td>0.183099</td>\n",
              "      <td>NaN</td>\n",
              "      <td>3.068090</td>\n",
              "      <td>0.163542</td>\n",
              "      <td>NaN</td>\n",
              "      <td>0.013599</td>\n",
              "      <td>5.832621</td>\n",
              "      <td>NaN</td>\n",
              "      <td>NaN</td>\n",
              "    </tr>\n",
              "    <tr>\n",
              "      <th>1962</th>\n",
              "      <td>226.081890</td>\n",
              "      <td>0.930816</td>\n",
              "      <td>0.073721</td>\n",
              "      <td>0.096612</td>\n",
              "      <td>0.210533</td>\n",
              "      <td>1.439956</td>\n",
              "      <td>NaN</td>\n",
              "      <td>0.727117</td>\n",
              "      <td>0.163542</td>\n",
              "      <td>2.538447</td>\n",
              "      <td>...</td>\n",
              "      <td>NaN</td>\n",
              "      <td>0.217694</td>\n",
              "      <td>0.595002</td>\n",
              "      <td>3.114839</td>\n",
              "      <td>0.158377</td>\n",
              "      <td>NaN</td>\n",
              "      <td>0.012729</td>\n",
              "      <td>5.887168</td>\n",
              "      <td>NaN</td>\n",
              "      <td>NaN</td>\n",
              "    </tr>\n",
              "    <tr>\n",
              "      <th>1963</th>\n",
              "      <td>214.785217</td>\n",
              "      <td>0.940570</td>\n",
              "      <td>0.074161</td>\n",
              "      <td>0.112376</td>\n",
              "      <td>0.202739</td>\n",
              "      <td>1.181681</td>\n",
              "      <td>NaN</td>\n",
              "      <td>0.853116</td>\n",
              "      <td>0.175833</td>\n",
              "      <td>2.330685</td>\n",
              "      <td>...</td>\n",
              "      <td>NaN</td>\n",
              "      <td>0.196997</td>\n",
              "      <td>0.471849</td>\n",
              "      <td>3.221195</td>\n",
              "      <td>0.184037</td>\n",
              "      <td>NaN</td>\n",
              "      <td>0.014518</td>\n",
              "      <td>5.961337</td>\n",
              "      <td>NaN</td>\n",
              "      <td>NaN</td>\n",
              "    </tr>\n",
              "    <tr>\n",
              "      <th>1964</th>\n",
              "      <td>207.626699</td>\n",
              "      <td>0.996033</td>\n",
              "      <td>0.086174</td>\n",
              "      <td>0.133258</td>\n",
              "      <td>0.213562</td>\n",
              "      <td>1.111742</td>\n",
              "      <td>NaN</td>\n",
              "      <td>0.972381</td>\n",
              "      <td>0.132815</td>\n",
              "      <td>2.553442</td>\n",
              "      <td>...</td>\n",
              "      <td>NaN</td>\n",
              "      <td>0.209870</td>\n",
              "      <td>0.864427</td>\n",
              "      <td>3.324046</td>\n",
              "      <td>0.208106</td>\n",
              "      <td>NaN</td>\n",
              "      <td>0.017550</td>\n",
              "      <td>6.332343</td>\n",
              "      <td>0.946606</td>\n",
              "      <td>1.034904</td>\n",
              "    </tr>\n",
              "  </tbody>\n",
              "</table>\n",
              "<p>5 rows × 266 columns</p>\n",
              "</div>\n",
              "      <button class=\"colab-df-convert\" onclick=\"convertToInteractive('df-ee3fb02a-755d-4134-9045-d0b8c9a0cc08')\"\n",
              "              title=\"Convert this dataframe to an interactive table.\"\n",
              "              style=\"display:none;\">\n",
              "        \n",
              "  <svg xmlns=\"http://www.w3.org/2000/svg\" height=\"24px\"viewBox=\"0 0 24 24\"\n",
              "       width=\"24px\">\n",
              "    <path d=\"M0 0h24v24H0V0z\" fill=\"none\"/>\n",
              "    <path d=\"M18.56 5.44l.94 2.06.94-2.06 2.06-.94-2.06-.94-.94-2.06-.94 2.06-2.06.94zm-11 1L8.5 8.5l.94-2.06 2.06-.94-2.06-.94L8.5 2.5l-.94 2.06-2.06.94zm10 10l.94 2.06.94-2.06 2.06-.94-2.06-.94-.94-2.06-.94 2.06-2.06.94z\"/><path d=\"M17.41 7.96l-1.37-1.37c-.4-.4-.92-.59-1.43-.59-.52 0-1.04.2-1.43.59L10.3 9.45l-7.72 7.72c-.78.78-.78 2.05 0 2.83L4 21.41c.39.39.9.59 1.41.59.51 0 1.02-.2 1.41-.59l7.78-7.78 2.81-2.81c.8-.78.8-2.07 0-2.86zM5.41 20L4 18.59l7.72-7.72 1.47 1.35L5.41 20z\"/>\n",
              "  </svg>\n",
              "      </button>\n",
              "      \n",
              "  <style>\n",
              "    .colab-df-container {\n",
              "      display:flex;\n",
              "      flex-wrap:wrap;\n",
              "      gap: 12px;\n",
              "    }\n",
              "\n",
              "    .colab-df-convert {\n",
              "      background-color: #E8F0FE;\n",
              "      border: none;\n",
              "      border-radius: 50%;\n",
              "      cursor: pointer;\n",
              "      display: none;\n",
              "      fill: #1967D2;\n",
              "      height: 32px;\n",
              "      padding: 0 0 0 0;\n",
              "      width: 32px;\n",
              "    }\n",
              "\n",
              "    .colab-df-convert:hover {\n",
              "      background-color: #E2EBFA;\n",
              "      box-shadow: 0px 1px 2px rgba(60, 64, 67, 0.3), 0px 1px 3px 1px rgba(60, 64, 67, 0.15);\n",
              "      fill: #174EA6;\n",
              "    }\n",
              "\n",
              "    [theme=dark] .colab-df-convert {\n",
              "      background-color: #3B4455;\n",
              "      fill: #D2E3FC;\n",
              "    }\n",
              "\n",
              "    [theme=dark] .colab-df-convert:hover {\n",
              "      background-color: #434B5C;\n",
              "      box-shadow: 0px 1px 3px 1px rgba(0, 0, 0, 0.15);\n",
              "      filter: drop-shadow(0px 1px 2px rgba(0, 0, 0, 0.3));\n",
              "      fill: #FFFFFF;\n",
              "    }\n",
              "  </style>\n",
              "\n",
              "      <script>\n",
              "        const buttonEl =\n",
              "          document.querySelector('#df-ee3fb02a-755d-4134-9045-d0b8c9a0cc08 button.colab-df-convert');\n",
              "        buttonEl.style.display =\n",
              "          google.colab.kernel.accessAllowed ? 'block' : 'none';\n",
              "\n",
              "        async function convertToInteractive(key) {\n",
              "          const element = document.querySelector('#df-ee3fb02a-755d-4134-9045-d0b8c9a0cc08');\n",
              "          const dataTable =\n",
              "            await google.colab.kernel.invokeFunction('convertToInteractive',\n",
              "                                                     [key], {});\n",
              "          if (!dataTable) return;\n",
              "\n",
              "          const docLinkHtml = 'Like what you see? Visit the ' +\n",
              "            '<a target=\"_blank\" href=https://colab.research.google.com/notebooks/data_table.ipynb>data table notebook</a>'\n",
              "            + ' to learn more about interactive tables.';\n",
              "          element.innerHTML = '';\n",
              "          dataTable['output_type'] = 'display_data';\n",
              "          await google.colab.output.renderOutput(dataTable, element);\n",
              "          const docLink = document.createElement('div');\n",
              "          docLink.innerHTML = docLinkHtml;\n",
              "          element.appendChild(docLink);\n",
              "        }\n",
              "      </script>\n",
              "    </div>\n",
              "  </div>\n",
              "  "
            ]
          },
          "metadata": {},
          "execution_count": 2
        }
      ]
    },
    {
      "cell_type": "code",
      "source": [
        "# Looking at the shape of the data\n",
        "data.shape"
      ],
      "metadata": {
        "id": "8xLREulf6kw-"
      },
      "execution_count": null,
      "outputs": []
    },
    {
      "cell_type": "code",
      "source": [
        "#Looking at the data types\n",
        "data.dtypes"
      ],
      "metadata": {
        "id": "NfT9aglE6p7-"
      },
      "execution_count": null,
      "outputs": []
    },
    {
      "cell_type": "code",
      "source": [
        "# A brief meta data of the dataset \n",
        "data.info()"
      ],
      "metadata": {
        "id": "o7Uruc5u6vKB",
        "outputId": "8dead7e5-b3a9-428a-c54f-9a00dd376c34",
        "colab": {
          "base_uri": "https://localhost:8080/"
        }
      },
      "execution_count": null,
      "outputs": [
        {
          "output_type": "stream",
          "name": "stdout",
          "text": [
            "<class 'pandas.core.frame.DataFrame'>\n",
            "Int64Index: 59 entries, 1960 to 2018\n",
            "Columns: 266 entries, ABW to ZWE\n",
            "dtypes: float64(266)\n",
            "memory usage: 125.1 KB\n"
          ]
        }
      ]
    },
    {
      "cell_type": "code",
      "source": [
        "# looking for null data entries on the dataset\n",
        "data.isnull().any()"
      ],
      "metadata": {
        "id": "72BR3eZN65Gy"
      },
      "execution_count": null,
      "outputs": []
    },
    {
      "cell_type": "code",
      "source": [
        "# looking at the total null entries for each column \n",
        "data.isnull().sum()"
      ],
      "metadata": {
        "id": "rxSst6dQ7ejP"
      },
      "execution_count": null,
      "outputs": []
    },
    {
      "cell_type": "code",
      "source": [
        "# A histogram showing number of null values \n",
        "data.isnull().sum().plot.hist()"
      ],
      "metadata": {
        "id": "TsBtJR_27uIc"
      },
      "execution_count": null,
      "outputs": []
    },
    {
      "cell_type": "code",
      "source": [
        "# cleaning the dataset by removing null values \n",
        "data_clean=data.dropna(axis='columns')"
      ],
      "metadata": {
        "id": "DP7T2iR98dTx"
      },
      "execution_count": null,
      "outputs": []
    },
    {
      "cell_type": "code",
      "source": [
        "#looking at the number of dropped columns \n",
        "len(data.dropna(axis='columns'))"
      ],
      "metadata": {
        "id": "AXOxJ2mw794N",
        "outputId": "3ecffdfe-cf87-48d1-815d-0eab0f608e98",
        "colab": {
          "base_uri": "https://localhost:8080/"
        }
      },
      "execution_count": null,
      "outputs": [
        {
          "output_type": "execute_result",
          "data": {
            "text/plain": [
              "59"
            ]
          },
          "metadata": {},
          "execution_count": 43
        }
      ]
    },
    {
      "cell_type": "code",
      "source": [
        "# looking at the cleaed dataset CO2 change from 1998 to 2018 \n",
        "CO2_Change = (data_clean.loc[2018] - data_clean.loc[1998])/data_clean.loc[1998]\n"
      ],
      "metadata": {
        "id": "L6vr-ikn8uyU"
      },
      "execution_count": null,
      "outputs": []
    },
    {
      "cell_type": "code",
      "source": [
        "# a statistical view of the data sets \n",
        "CO2_Change.describe()"
      ],
      "metadata": {
        "id": "0lory4Lp9VJP",
        "outputId": "2afd6241-574a-47c4-80f9-978235cba7c5",
        "colab": {
          "base_uri": "https://localhost:8080/"
        }
      },
      "execution_count": null,
      "outputs": [
        {
          "output_type": "execute_result",
          "data": {
            "text/plain": [
              "count    191.000000\n",
              "mean       0.494745\n",
              "std        1.341795\n",
              "min       -0.737721\n",
              "25%       -0.101786\n",
              "50%        0.198752\n",
              "75%        0.643839\n",
              "max       15.694284\n",
              "dtype: float64"
            ]
          },
          "metadata": {},
          "execution_count": 34
        }
      ]
    },
    {
      "cell_type": "code",
      "source": [
        "# visualising the change from 1998 to 2018 \n",
        "CO2_Change.plot.hist(bins=30,figsize=(8,6))"
      ],
      "metadata": {
        "id": "sI9rdIUi9ixN",
        "outputId": "ca135dd9-2a47-44c8-e06b-41f9b8a1c26a",
        "colab": {
          "base_uri": "https://localhost:8080/",
          "height": 391
        }
      },
      "execution_count": null,
      "outputs": [
        {
          "output_type": "execute_result",
          "data": {
            "text/plain": [
              "<matplotlib.axes._subplots.AxesSubplot at 0x7f2b94700550>"
            ]
          },
          "metadata": {},
          "execution_count": 33
        },
        {
          "output_type": "display_data",
          "data": {
            "text/plain": [
              "<Figure size 576x432 with 1 Axes>"
            ],
            "image/png": "[encoded data removed]"
          },
          "metadata": {
            "needs_background": "light"
          }
        }
      ]
    },
    {
      "cell_type": "code",
      "source": [
        "#loooking at countries with less than 0 emission \n",
        "(CO2_Change < 0).value_counts()"
      ],
      "metadata": {
        "id": "u78Xqs_-_bOl",
        "outputId": "fd43f8b5-0d1f-4ce3-bcef-e7a23189b208",
        "colab": {
          "base_uri": "https://localhost:8080/"
        }
      },
      "execution_count": null,
      "outputs": [
        {
          "output_type": "execute_result",
          "data": {
            "text/plain": [
              "False    123\n",
              "True      68\n",
              "dtype: int64"
            ]
          },
          "metadata": {},
          "execution_count": 35
        }
      ]
    },
    {
      "cell_type": "code",
      "source": [
        "(CO2_Change < 0).value_counts"
      ],
      "metadata": {
        "id": "JByq4oKJEyrq",
        "outputId": "8b3f7cea-3508-495c-86c4-4161c3c96722",
        "colab": {
          "base_uri": "https://localhost:8080/"
        }
      },
      "execution_count": null,
      "outputs": [
        {
          "output_type": "execute_result",
          "data": {
            "text/plain": [
              "<bound method IndexOpsMixin.value_counts of AFE     True\n",
              "AFG    False\n",
              "AFW    False\n",
              "AGO    False\n",
              "ALB    False\n",
              "       ...  \n",
              "VNM    False\n",
              "WLD    False\n",
              "WSM    False\n",
              "YEM     True\n",
              "ZAF    False\n",
              "Length: 191, dtype: bool>"
            ]
          },
          "metadata": {},
          "execution_count": 44
        }
      ]
    },
    {
      "cell_type": "code",
      "source": [
        "# A piechat representation of countries with less than  0 carbon emission and countries with greater than 0  cabon emission rating \n",
        "(CO2_Change < 0).value_counts().plot.pie(colors=['r', 'g'], labels=['>= 0', '< 0'], title='Title', ylabel='label', autopct='%1.1f%%')"
      ],
      "metadata": {
        "id": "PQa6t23xBCml",
        "outputId": "b6371fb8-c546-4187-e62e-f02d1f342731",
        "colab": {
          "base_uri": "https://localhost:8080/",
          "height": 281
        }
      },
      "execution_count": null,
      "outputs": [
        {
          "output_type": "execute_result",
          "data": {
            "text/plain": [
              "<matplotlib.axes._subplots.AxesSubplot at 0x7f2b95aef190>"
            ]
          },
          "metadata": {},
          "execution_count": 36
        },
        {
          "output_type": "display_data",
          "data": {
            "text/plain": [
              "<Figure size 432x288 with 1 Axes>"
            ],
            "image/png": "[encoded data removed]"
          },
          "metadata": {}
        }
      ]
    },
    {
      "cell_type": "markdown",
      "source": [
        "# ***My report ***\n",
        "From my observation between the year 1998 and 2018 the carbon emission rate has increased. from the chat above we can see that only 35.6% countries are below the zero mark and we have over 50% of the countries above the zero mark. The exact figure stands at 64.4%. countries have to look at alternatives to help reduce the CO2 emission \n"
      ],
      "metadata": {
        "id": "Cflhgx6iEpFj"
      }
    },
    {
      "cell_type": "code",
      "source": [
        ""
      ],
      "metadata": {
        "id": "KMGJCuT5GSKD"
      },
      "execution_count": null,
      "outputs": []
    }
  ],
  "metadata": {
    "colab": {
      "collapsed_sections": [],
      "name": "CO2 Emission ",
      "provenance": []
    },
    "kernelspec": {
      "display_name": "Python 3",
      "name": "python3"
    }
  },
  "nbformat": 4,
  "nbformat_minor": 0
}